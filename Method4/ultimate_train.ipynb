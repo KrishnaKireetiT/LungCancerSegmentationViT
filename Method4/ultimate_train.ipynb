{
 "cells": [
  {
   "cell_type": "code",
   "execution_count": 2,
   "metadata": {},
   "outputs": [],
   "source": [
    "import os\n",
    "import tqdm\n",
    "import torch\n",
    "import numpy as np\n",
    "import pandas as pd\n",
    "import torch.nn as nn\n",
    "from tqdm import tqdm\n",
    "import torch.nn.functional as F\n",
    "from fvcore.nn import FlopCountAnalysis\n",
    "from einops.layers.torch import Rearrange\n",
    "import segmentation_models_pytorch as smp\n",
    "from torch.utils.data import DataLoader, Dataset"
   ]
  },
  {
   "cell_type": "code",
   "execution_count": 3,
   "metadata": {},
   "outputs": [],
   "source": [
    "class ViTBlock(nn.Module):\n",
    "    def __init__(self, in_channels, out_channels, patch_size, num_patches, hidden_dim, num_heads, mlp_dim, dropout=0.1):\n",
    "        super(ViTBlock, self).__init__()\n",
    "        self.patch_embedding = nn.Conv2d(in_channels, out_channels, kernel_size=patch_size, stride=patch_size)\n",
    "        self.position_embedding = nn.Parameter(torch.randn(1, num_patches, out_channels))\n",
    "        self.cls_token = nn.Parameter(torch.randn(1, 1, out_channels))\n",
    "        self.transformer = nn.TransformerEncoder(nn.TransformerEncoderLayer(out_channels, num_heads, dim_feedforward=mlp_dim, dropout=dropout, batch_first=True), num_layers=1)\n",
    "        self.dropout = nn.Dropout(dropout)\n",
    "\n",
    "    def forward(self, x):\n",
    "        # print(\"New Call\")\n",
    "        \n",
    "        # print(\"Encoder 1\", x.shape)\n",
    "        B, C, H, W = x.shape\n",
    "        x = self.patch_embedding(x)  # B, out_channels, H', W'\n",
    "        # print(\"Encoder 2\", x.shape)\n",
    "        \n",
    "        x = x.flatten(2).transpose(1, 2)  # B, (H' * W'), out_channels\n",
    "        # print(\"Encoder 3\", x.shape)\n",
    "        \n",
    "        # cls_tokens = self.cls_token.expand(B, -1, -1)\n",
    "        # print(\"Encoder 4\", cls_tokens.shape, x.shape)\n",
    "        \n",
    "        # x = torch.cat((cls_tokens, x), dim=1)\n",
    "        # print(\"Encoder 5\", x.shape)\n",
    "\n",
    "        x += self.position_embedding\n",
    "        # print(\"Encoder 6\", x.shape)\n",
    "\n",
    "        x = self.dropout(x)\n",
    "        # print(\"Encoder 7\", x.shape)\n",
    "        \n",
    "        x = self.transformer(x)\n",
    "        # print(\"Encoder 8\", x.shape)\n",
    "        \n",
    "        return x\n",
    "\n",
    "class ViTUnet(nn.Module):\n",
    "    def __init__(self, num_classes=2, in_channels=3, patch_size=16, vit_hidden_dim=256, vit_num_heads=32, vit_mlp_dim=512, dropout=0.1):\n",
    "        super(ViTUnet, self).__init__()\n",
    "\n",
    "        num_patches = (256 // patch_size) ** 2\n",
    "        self.vit_block1 = ViTBlock(in_channels, vit_hidden_dim, patch_size, num_patches, vit_hidden_dim, vit_num_heads, vit_mlp_dim, dropout)\n",
    "        self.vit_block2 = ViTBlock(vit_hidden_dim, vit_hidden_dim, patch_size // 2, num_patches // 4, vit_hidden_dim, vit_num_heads, vit_mlp_dim, dropout)\n",
    "        self.vit_block3 = ViTBlock(vit_hidden_dim, vit_hidden_dim, patch_size // 2, num_patches // 16, vit_hidden_dim, vit_num_heads, vit_mlp_dim, dropout)\n",
    "\n",
    "        self.decoder = nn.Sequential(\n",
    "            nn.Conv2d(in_channels, 64, kernel_size=3, padding=1),\n",
    "            nn.ReLU(inplace=True),\n",
    "            nn.Conv2d(64, 64, kernel_size=3, padding=1),\n",
    "            nn.ReLU(inplace=True),\n",
    "            nn.Conv2d(64, num_classes, kernel_size=1)\n",
    "        )\n",
    "\n",
    "    def forward(self, x):\n",
    "        # print(\"New Iteration\")\n",
    "        # print(\"Decoder 1\", x.shape)\n",
    "        x1 = self.vit_block1(x)\n",
    "        x1 = x1.unsqueeze(1)\n",
    "        # x2 = self.vit_block2(x1.unsqueeze(1)).squeeze(1)\n",
    "        # print(\"Decoder 3\", x2.shape, x2.unsqueeze(1).shape )\n",
    "        # x3 = self.vit_block3(x2.unsqueeze(1)).squeeze(1)\n",
    "        # print(\"Decoder 4\", x3.shape)\n",
    "        # x = F.interpolate(x1.unsqueeze(1), scale_factor=2, mode='bilinear', align_corners=True)\n",
    "        # print(\"Decoder 5\", x.shape)\n",
    "        # x = F.interpolate(x, scale_factor=2, mode='bilinear', align_corners=True)\n",
    "        # print(\"Decoder 6\", x.shape)\n",
    "        x = self.decoder(x1)\n",
    "        # print(\"Decoder 7\", x.shape)\n",
    "        return x"
   ]
  },
  {
   "cell_type": "code",
   "execution_count": 4,
   "metadata": {},
   "outputs": [],
   "source": [
    "# models = ['efficientnet-b4', 'efficientnet-b3']"
   ]
  },
  {
   "cell_type": "code",
   "execution_count": 5,
   "metadata": {},
   "outputs": [],
   "source": [
    "# benchmark = pd.DataFrame(columns=['model_name', 'epochs', 'gflops', 'dice_score', 'iou_score'])"
   ]
  },
  {
   "cell_type": "code",
   "execution_count": 6,
   "metadata": {},
   "outputs": [],
   "source": [
    "EPOCH = 100"
   ]
  },
  {
   "cell_type": "code",
   "execution_count": 7,
   "metadata": {},
   "outputs": [
    {
     "name": "stdout",
     "output_type": "stream",
     "text": [
      "True\n"
     ]
    }
   ],
   "source": [
    "print(torch.cuda.is_available())\n",
    "device = \"cuda:0\""
   ]
  },
  {
   "cell_type": "code",
   "execution_count": 8,
   "metadata": {},
   "outputs": [],
   "source": [
    "class CustomDataset(Dataset):\n",
    "    def __init__(self, data_path, label_path):\n",
    "        self.data_path = data_path\n",
    "        self.label_path = label_path\n",
    "        self.device = torch.device(\"cuda\" if torch.cuda.is_available() else \"cpu\")\n",
    "\n",
    "    def __len__(self):\n",
    "        return len(os.listdir(self.data_path))\n",
    "\n",
    "    def __getitem__(self, idx):\n",
    "        ct = np.load(os.path.join(self.data_path, f\"{idx}.npy\"))\n",
    "        mask = np.load(os.path.join(self.label_path, f\"{idx}.npy\"))\n",
    "\n",
    "        ct = torch.Tensor(ct).to(self.device)\n",
    "        mask = torch.Tensor(mask).to(self.device)\n",
    "\n",
    "        return ct, mask\n",
    "\n",
    "class DataGenerator:\n",
    "    def __init__(self, batch_size):\n",
    "        self.batch_size = batch_size\n",
    "        self.ROOT_DATA_PATH = 'Task06_Lung/Preprocessed/all/data/'\n",
    "        self.ROOT_LABEL_PATH = 'Task06_Lung/Preprocessed/all/label/'\n",
    "        self.TEST_DATA_PATH = 'Task06_Lung/Preprocessed/test/data/'\n",
    "        self.TEST_LABEL_PATH = 'Task06_Lung/Preprocessed/test/label/'\n",
    "\n",
    "    def train_loader(self):\n",
    "        dataset = CustomDataset(self.ROOT_DATA_PATH, self.ROOT_LABEL_PATH)\n",
    "        return DataLoader(dataset, batch_size=self.batch_size, shuffle=True)\n",
    "\n",
    "    def test_loader(self):\n",
    "        dataset = CustomDataset(self.TEST_DATA_PATH, self.TEST_LABEL_PATH)\n",
    "        return DataLoader(dataset, batch_size=1, shuffle=False)"
   ]
  },
  {
   "cell_type": "code",
   "execution_count": 9,
   "metadata": {},
   "outputs": [],
   "source": [
    "batch_size = 8\n",
    "\n",
    "data_generator = DataGenerator(batch_size)\n",
    "\n",
    "train_loader = data_generator.train_loader()\n",
    "\n",
    "test_loader = data_generator.test_loader()"
   ]
  },
  {
   "cell_type": "code",
   "execution_count": 10,
   "metadata": {},
   "outputs": [],
   "source": [
    "class DiceScore(torch.nn.Module):\n",
    "    \"\"\"\n",
    "    class to compute the Dice Loss\n",
    "    \"\"\"\n",
    "    def __init__(self):\n",
    "        super().__init__()\n",
    "\n",
    "    def forward(self, pred, mask):\n",
    "\n",
    "        #flatten label and prediction tensors\n",
    "        pred = torch.flatten(pred)\n",
    "        mask = torch.flatten(mask)\n",
    "\n",
    "        counter = (pred * mask).sum()  # Counter\n",
    "        denum = pred.sum() + mask.sum()\n",
    "        dice = (2*counter)/denum\n",
    "\n",
    "        return dice\n"
   ]
  },
  {
   "cell_type": "code",
   "execution_count": 11,
   "metadata": {},
   "outputs": [],
   "source": [
    "def iou(groundtruth_mask, pred_mask):\n",
    "    intersect = np.sum(pred_mask*groundtruth_mask)\n",
    "    union = np.sum(pred_mask) + np.sum(groundtruth_mask) - intersect\n",
    "    iou = np.mean(intersect/union)\n",
    "    return round(iou, 3)"
   ]
  },
  {
   "cell_type": "code",
   "execution_count": 12,
   "metadata": {},
   "outputs": [
    {
     "name": "stderr",
     "output_type": "stream",
     "text": [
      "c:\\Users\\kiree\\anaconda3\\envs\\benchmark\\Lib\\site-packages\\torch\\nn\\functional.py:5476: UserWarning: 1Torch was not compiled with flash attention. (Triggered internally at ..\\aten\\src\\ATen\\native\\transformers\\cuda\\sdp_utils.cpp:263.)\n",
      "  attn_output = scaled_dot_product_attention(q, k, v, attn_mask, dropout_p, is_causal)\n"
     ]
    },
    {
     "name": "stdout",
     "output_type": "stream",
     "text": [
      "Epoch 1/100, Average Loss: 0.1296\n",
      "Epoch 2/100, Average Loss: 0.0251\n",
      "Epoch 3/100, Average Loss: 0.0200\n",
      "Epoch 4/100, Average Loss: 0.0175\n",
      "Epoch 5/100, Average Loss: 0.0161\n",
      "Epoch 6/100, Average Loss: 0.0153\n",
      "Epoch 7/100, Average Loss: 0.0146\n",
      "Epoch 8/100, Average Loss: 0.0139\n",
      "Epoch 9/100, Average Loss: 0.0132\n",
      "Epoch 10/100, Average Loss: 0.0125\n",
      "Epoch 11/100, Average Loss: 0.0119\n",
      "Epoch 12/100, Average Loss: 0.0113\n",
      "Epoch 13/100, Average Loss: 0.0106\n",
      "Epoch 14/100, Average Loss: 0.0101\n",
      "Epoch 15/100, Average Loss: 0.0096\n",
      "Epoch 16/100, Average Loss: 0.0090\n",
      "Epoch 17/100, Average Loss: 0.0086\n",
      "Epoch 18/100, Average Loss: 0.0083\n",
      "Epoch 19/100, Average Loss: 0.0079\n",
      "Epoch 20/100, Average Loss: 0.0075\n",
      "Epoch 21/100, Average Loss: 0.0073\n",
      "Epoch 22/100, Average Loss: 0.0070\n",
      "Epoch 23/100, Average Loss: 0.0068\n",
      "Epoch 24/100, Average Loss: 0.0066\n",
      "Epoch 25/100, Average Loss: 0.0064\n",
      "Epoch 26/100, Average Loss: 0.0061\n",
      "Epoch 27/100, Average Loss: 0.0060\n",
      "Epoch 28/100, Average Loss: 0.0058\n",
      "Epoch 29/100, Average Loss: 0.0056\n",
      "Epoch 30/100, Average Loss: 0.0054\n",
      "Epoch 31/100, Average Loss: 0.0053\n",
      "Epoch 32/100, Average Loss: 0.0051\n",
      "Epoch 33/100, Average Loss: 0.0050\n",
      "Epoch 34/100, Average Loss: 0.0049\n",
      "Epoch 35/100, Average Loss: 0.0048\n",
      "Epoch 36/100, Average Loss: 0.0047\n",
      "Epoch 37/100, Average Loss: 0.0046\n",
      "Epoch 38/100, Average Loss: 0.0046\n",
      "Epoch 39/100, Average Loss: 0.0044\n",
      "Epoch 40/100, Average Loss: 0.0043\n",
      "Epoch 41/100, Average Loss: 0.0043\n",
      "Epoch 42/100, Average Loss: 0.0042\n",
      "Epoch 43/100, Average Loss: 0.0041\n",
      "Epoch 44/100, Average Loss: 0.0040\n",
      "Epoch 45/100, Average Loss: 0.0040\n",
      "Epoch 46/100, Average Loss: 0.0039\n",
      "Epoch 47/100, Average Loss: 0.0039\n",
      "Epoch 48/100, Average Loss: 0.0038\n",
      "Epoch 49/100, Average Loss: 0.0038\n",
      "Epoch 50/100, Average Loss: 0.0038\n",
      "Epoch 51/100, Average Loss: 0.0037\n",
      "Epoch 52/100, Average Loss: 0.0037\n",
      "Epoch 53/100, Average Loss: 0.0037\n",
      "Epoch 54/100, Average Loss: 0.0036\n",
      "Epoch 55/100, Average Loss: 0.0035\n",
      "Epoch 56/100, Average Loss: 0.0035\n",
      "Epoch 57/100, Average Loss: 0.0035\n",
      "Epoch 58/100, Average Loss: 0.0034\n",
      "Epoch 59/100, Average Loss: 0.0034\n",
      "Epoch 60/100, Average Loss: 0.0034\n",
      "Epoch 61/100, Average Loss: 0.0033\n",
      "Epoch 62/100, Average Loss: 0.0033\n",
      "Epoch 63/100, Average Loss: 0.0033\n",
      "Epoch 64/100, Average Loss: 0.0033\n",
      "Epoch 65/100, Average Loss: 0.0032\n",
      "Epoch 66/100, Average Loss: 0.0032\n",
      "Epoch 67/100, Average Loss: 0.0032\n",
      "Epoch 68/100, Average Loss: 0.0032\n",
      "Epoch 69/100, Average Loss: 0.0031\n",
      "Epoch 70/100, Average Loss: 0.0031\n",
      "Epoch 71/100, Average Loss: 0.0031\n",
      "Epoch 72/100, Average Loss: 0.0031\n",
      "Epoch 73/100, Average Loss: 0.0030\n",
      "Epoch 74/100, Average Loss: 0.0030\n",
      "Epoch 75/100, Average Loss: 0.0030\n",
      "Epoch 76/100, Average Loss: 0.0030\n",
      "Epoch 77/100, Average Loss: 0.0029\n",
      "Epoch 78/100, Average Loss: 0.0029\n",
      "Epoch 79/100, Average Loss: 0.0029\n",
      "Epoch 80/100, Average Loss: 0.0029\n",
      "Epoch 81/100, Average Loss: 0.0029\n",
      "Epoch 82/100, Average Loss: 0.0029\n",
      "Epoch 83/100, Average Loss: 0.0029\n",
      "Epoch 84/100, Average Loss: 0.0028\n",
      "Epoch 85/100, Average Loss: 0.0028\n",
      "Epoch 86/100, Average Loss: 0.0028\n",
      "Epoch 87/100, Average Loss: 0.0028\n",
      "Epoch 88/100, Average Loss: 0.0028\n",
      "Epoch 89/100, Average Loss: 0.0027\n",
      "Epoch 90/100, Average Loss: 0.0027\n",
      "Epoch 91/100, Average Loss: 0.0028\n",
      "Epoch 92/100, Average Loss: 0.0027\n",
      "Epoch 93/100, Average Loss: 0.0027\n",
      "Epoch 94/100, Average Loss: 0.0027\n",
      "Epoch 95/100, Average Loss: 0.0027\n",
      "Epoch 96/100, Average Loss: 0.0027\n",
      "Epoch 97/100, Average Loss: 0.0026\n",
      "Epoch 98/100, Average Loss: 0.0026\n",
      "Epoch 99/100, Average Loss: 0.0026\n",
      "Epoch 100/100, Average Loss: 0.0026\n"
     ]
    },
    {
     "name": "stderr",
     "output_type": "stream",
     "text": [
      "Unsupported operator aten::add_ encountered 1 time(s)\n",
      "Unsupported operator aten::div encountered 1 time(s)\n",
      "Unsupported operator aten::unflatten encountered 1 time(s)\n",
      "Unsupported operator aten::mul encountered 4 time(s)\n",
      "Unsupported operator aten::scaled_dot_product_attention encountered 1 time(s)\n",
      "Unsupported operator aten::add encountered 2 time(s)\n",
      "The following submodules of the model were never called during the trace of the graph. They may be unused, or they were accessed by direct calls to .forward() or via other python methods. In the latter case they will have zeros for statistics, though their statistics will still contribute to their parent calling module.\n",
      "vit_block1.transformer.layers.0.self_attn.out_proj, vit_block2, vit_block2.dropout, vit_block2.patch_embedding, vit_block2.transformer, vit_block2.transformer.layers.0, vit_block2.transformer.layers.0.dropout, vit_block2.transformer.layers.0.dropout1, vit_block2.transformer.layers.0.dropout2, vit_block2.transformer.layers.0.linear1, vit_block2.transformer.layers.0.linear2, vit_block2.transformer.layers.0.norm1, vit_block2.transformer.layers.0.norm2, vit_block2.transformer.layers.0.self_attn, vit_block2.transformer.layers.0.self_attn.out_proj, vit_block3, vit_block3.dropout, vit_block3.patch_embedding, vit_block3.transformer, vit_block3.transformer.layers.0, vit_block3.transformer.layers.0.dropout, vit_block3.transformer.layers.0.dropout1, vit_block3.transformer.layers.0.dropout2, vit_block3.transformer.layers.0.linear1, vit_block3.transformer.layers.0.linear2, vit_block3.transformer.layers.0.norm1, vit_block3.transformer.layers.0.norm2, vit_block3.transformer.layers.0.self_attn, vit_block3.transformer.layers.0.self_attn.out_proj\n"
     ]
    },
    {
     "name": "stdout",
     "output_type": "stream",
     "text": [
      "tensor(0.7726) 0.629 2.609512448e+18\n"
     ]
    }
   ],
   "source": [
    "# for name in tqdm(models):\n",
    "\n",
    "# #     model =  smp.Unet(\n",
    "# #     encoder_name=name,        \n",
    "# #     encoder_weights=\"imagenet\",     \n",
    "# #     in_channels=1,                  \n",
    "# #     classes=1,                    \n",
    "# # )\n",
    "    \n",
    "model = ViTUnet(num_classes=1, in_channels=1)\n",
    "\n",
    "optimizer = torch.optim.Adam(model.parameters(), lr=1e-4)\n",
    "criterion = torch.nn.BCEWithLogitsLoss()\n",
    "torch.device(device=device)\n",
    "model = model.to(device)\n",
    "\n",
    "for epoch in range(EPOCH):\n",
    "    model.train()\n",
    "    total_loss = 0.0\n",
    "\n",
    "    for batch_idx, (ct, mask) in enumerate(train_loader):\n",
    "        ct, mask = ct.to(device), mask.to(device)\n",
    "\n",
    "        outputs = model(ct)\n",
    "\n",
    "        loss = criterion(outputs, mask)\n",
    "\n",
    "        optimizer.zero_grad()\n",
    "        loss.backward()\n",
    "        optimizer.step()\n",
    "\n",
    "        total_loss += loss.item()\n",
    "\n",
    "    average_loss = total_loss / len(train_loader)\n",
    "    print(f\"Epoch {epoch + 1}/{EPOCH}, Average Loss: {average_loss:.4f}\")\n",
    "\n",
    "preds = []\n",
    "labels = []\n",
    "\n",
    "for batch_idx, (ct, mask) in enumerate(test_loader):\n",
    "\n",
    "    ct, mask = ct.to(device), mask.to(device)\n",
    "        \n",
    "    with torch.no_grad():\n",
    "        pred = model(ct)\n",
    "        \n",
    "    pred = pred.cpu().numpy()\n",
    "    mask = mask.cpu().numpy()\n",
    "    pred = np.where(pred > 0.5, 1, 0)\n",
    "\n",
    "    preds.append(pred)\n",
    "    labels.append(mask)\n",
    "    \n",
    "preds = np.array(preds)\n",
    "labels = np.array(labels)\n",
    "\n",
    "dice_score = DiceScore()(torch.from_numpy(preds), torch.from_numpy(labels))\n",
    "iou_score = iou(labels, preds)\n",
    "\n",
    "data = torch.rand(1, 1, 256, 256).to(device)\n",
    "flops = FlopCountAnalysis(model, data)\n",
    "print(dice_score, iou_score, flops.total() // 1e-9)\n",
    "\n",
    "    # new_row = {'model_name': name, 'epochs':EPOCH, 'gflops': flops, 'dice_score': dice_score, 'iou_score': iou_score}\n",
    "    # benchmark = pd.concat([benchmark, pd.DataFrame([new_row])], ignore_index=True)"
   ]
  },
  {
   "cell_type": "code",
   "execution_count": 13,
   "metadata": {},
   "outputs": [],
   "source": [
    "# benchmark"
   ]
  },
  {
   "cell_type": "code",
   "execution_count": 14,
   "metadata": {},
   "outputs": [],
   "source": [
    "# file_name = 'benchmark.xlsx'\n",
    "# benchmark.to_excel(file_name)"
   ]
  },
  {
   "cell_type": "code",
   "execution_count": 15,
   "metadata": {},
   "outputs": [],
   "source": [
    "encoder_layer = nn.TransformerEncoderLayer(d_model=512, nhead=8)\n",
    "src = torch.rand(10, 32, 512)\n",
    "out = encoder_layer(src)"
   ]
  },
  {
   "cell_type": "code",
   "execution_count": 16,
   "metadata": {},
   "outputs": [
    {
     "name": "stdout",
     "output_type": "stream",
     "text": [
      "torch.Size([10, 32, 512]) torch.Size([10, 32, 512])\n"
     ]
    }
   ],
   "source": [
    "print(src.shape, out.shape)"
   ]
  },
  {
   "cell_type": "code",
   "execution_count": 17,
   "metadata": {},
   "outputs": [
    {
     "name": "stdout",
     "output_type": "stream",
     "text": [
      "torch.Size([10, 32, 512]) torch.Size([10, 32, 512])\n"
     ]
    },
    {
     "name": "stderr",
     "output_type": "stream",
     "text": [
      "c:\\Users\\kiree\\anaconda3\\envs\\benchmark\\Lib\\site-packages\\torch\\nn\\modules\\transformer.py:286: UserWarning: enable_nested_tensor is True, but self.use_nested_tensor is False because encoder_layer.self_attn.batch_first was not True(use batch_first for better inference performance)\n",
      "  warnings.warn(f\"enable_nested_tensor is True, but self.use_nested_tensor is False because {why_not_sparsity_fast_path}\")\n"
     ]
    }
   ],
   "source": [
    "encoder_layer = nn.TransformerEncoderLayer(d_model=512, nhead=8)\n",
    "transformer_encoder = nn.TransformerEncoder(encoder_layer, num_layers=1)\n",
    "src = torch.rand(10, 32, 512)\n",
    "out = transformer_encoder(src)\n",
    "\n",
    "print(src.shape, out.shape)"
   ]
  },
  {
   "cell_type": "code",
   "execution_count": null,
   "metadata": {},
   "outputs": [],
   "source": []
  }
 ],
 "metadata": {
  "kernelspec": {
   "display_name": "proj",
   "language": "python",
   "name": "python3"
  },
  "language_info": {
   "codemirror_mode": {
    "name": "ipython",
    "version": 3
   },
   "file_extension": ".py",
   "mimetype": "text/x-python",
   "name": "python",
   "nbconvert_exporter": "python",
   "pygments_lexer": "ipython3",
   "version": "3.12.2"
  }
 },
 "nbformat": 4,
 "nbformat_minor": 2
}

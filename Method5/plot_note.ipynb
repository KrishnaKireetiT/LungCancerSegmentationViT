{
 "cells": [
  {
   "cell_type": "code",
   "execution_count": 1,
   "metadata": {},
   "outputs": [],
   "source": [
    "import pandas as pd\n",
    "import matplotlib.pyplot as plt\n",
    "import seaborn as sns\n",
    "import numpy as np"
   ]
  },
  {
   "cell_type": "code",
   "execution_count": 2,
   "metadata": {},
   "outputs": [],
   "source": [
    "data = pd.read_csv('C:\\\\Users\\\\kiree\\\\Documents\\\\REC\\\\SEM-8\\\\Proj\\\\Benchmarking\\\\models.csv')\n",
    "df = pd.DataFrame(data)"
   ]
  },
  {
   "cell_type": "code",
   "execution_count": 3,
   "metadata": {},
   "outputs": [
    {
     "data": {
      "text/html": [
       "<div>\n",
       "<style scoped>\n",
       "    .dataframe tbody tr th:only-of-type {\n",
       "        vertical-align: middle;\n",
       "    }\n",
       "\n",
       "    .dataframe tbody tr th {\n",
       "        vertical-align: top;\n",
       "    }\n",
       "\n",
       "    .dataframe thead th {\n",
       "        text-align: right;\n",
       "    }\n",
       "</style>\n",
       "<table border=\"1\" class=\"dataframe\">\n",
       "  <thead>\n",
       "    <tr style=\"text-align: right;\">\n",
       "      <th></th>\n",
       "      <th>mname</th>\n",
       "      <th>dice</th>\n",
       "      <th>iou</th>\n",
       "      <th>gflops</th>\n",
       "      <th>encoder</th>\n",
       "    </tr>\n",
       "  </thead>\n",
       "  <tbody>\n",
       "    <tr>\n",
       "      <th>0</th>\n",
       "      <td>timm-regnetx_016</td>\n",
       "      <td>0.8639</td>\n",
       "      <td>0.760</td>\n",
       "      <td>11.8262</td>\n",
       "      <td>1</td>\n",
       "    </tr>\n",
       "    <tr>\n",
       "      <th>1</th>\n",
       "      <td>timm-regnetx_040</td>\n",
       "      <td>0.8495)</td>\n",
       "      <td>0.738</td>\n",
       "      <td>17.5306</td>\n",
       "      <td>1</td>\n",
       "    </tr>\n",
       "    <tr>\n",
       "      <th>2</th>\n",
       "      <td>timm-regnetx_080</td>\n",
       "      <td>0.8453</td>\n",
       "      <td>0.732</td>\n",
       "      <td>23.5854</td>\n",
       "      <td>1</td>\n",
       "    </tr>\n",
       "    <tr>\n",
       "      <th>3</th>\n",
       "      <td>mobileone_s1</td>\n",
       "      <td>0.8433</td>\n",
       "      <td>0.729</td>\n",
       "      <td>19.3934</td>\n",
       "      <td>1</td>\n",
       "    </tr>\n",
       "    <tr>\n",
       "      <th>4</th>\n",
       "      <td>timm-regnety_120</td>\n",
       "      <td>0.8426</td>\n",
       "      <td>0.728</td>\n",
       "      <td>51.6429</td>\n",
       "      <td>1</td>\n",
       "    </tr>\n",
       "  </tbody>\n",
       "</table>\n",
       "</div>"
      ],
      "text/plain": [
       "              mname     dice    iou   gflops  encoder\n",
       "0  timm-regnetx_016   0.8639  0.760  11.8262        1\n",
       "1  timm-regnetx_040  0.8495)  0.738  17.5306        1\n",
       "2  timm-regnetx_080   0.8453  0.732  23.5854        1\n",
       "3      mobileone_s1   0.8433  0.729  19.3934        1\n",
       "4  timm-regnety_120   0.8426  0.728  51.6429        1"
      ]
     },
     "execution_count": 3,
     "metadata": {},
     "output_type": "execute_result"
    }
   ],
   "source": [
    "df.head()"
   ]
  },
  {
   "cell_type": "code",
   "execution_count": 4,
   "metadata": {},
   "outputs": [],
   "source": [
    "enc = df['encoder']\n",
    "mname = df['mname']\n",
    "dice = df['dice']\n",
    "Iou = df['iou']\n",
    "\n",
    "flops = df['gflops']"
   ]
  },
  {
   "cell_type": "code",
   "execution_count": 5,
   "metadata": {},
   "outputs": [],
   "source": [
    "x = mname\n",
    "y = dice\n",
    "color_p = enc"
   ]
  },
  {
   "cell_type": "code",
   "execution_count": 6,
   "metadata": {},
   "outputs": [],
   "source": [
    "colors = plt.cm.viridis(color_p.values)"
   ]
  },
  {
   "cell_type": "code",
   "execution_count": 11,
   "metadata": {},
   "outputs": [
    {
     "ename": "ValueError",
     "evalue": "array([[0.26851 , 0.009605, 0.335427, 1.      ],\n       [0.26851 , 0.009605, 0.335427, 1.      ],\n       [0.26851 , 0.009605, 0.335427, 1.      ],\n       [0.26851 , 0.009605, 0.335427, 1.      ],\n       [0.26851 , 0.009605, 0.335427, 1.      ],\n       [0.26851 , 0.009605, 0.335427, 1.      ],\n       [0.26851 , 0.009605, 0.335427, 1.      ],\n       [0.26851 , 0.009605, 0.335427, 1.      ],\n       [0.26851 , 0.009605, 0.335427, 1.      ],\n       [0.26851 , 0.009605, 0.335427, 1.      ],\n       [0.269944, 0.014625, 0.341379, 1.      ],\n       [0.269944, 0.014625, 0.341379, 1.      ],\n       [0.269944, 0.014625, 0.341379, 1.      ],\n       [0.269944, 0.014625, 0.341379, 1.      ],\n       [0.269944, 0.014625, 0.341379, 1.      ],\n       [0.269944, 0.014625, 0.341379, 1.      ],\n       [0.269944, 0.014625, 0.341379, 1.      ],\n       [0.269944, 0.014625, 0.341379, 1.      ],\n       [0.269944, 0.014625, 0.341379, 1.      ],\n       [0.269944, 0.014625, 0.341379, 1.      ],\n       [0.271305, 0.019942, 0.347269, 1.      ],\n       [0.271305, 0.019942, 0.347269, 1.      ],\n       [0.271305, 0.019942, 0.347269, 1.      ],\n       [0.271305, 0.019942, 0.347269, 1.      ],\n       [0.271305, 0.019942, 0.347269, 1.      ],\n       [0.271305, 0.019942, 0.347269, 1.      ],\n       [0.271305, 0.019942, 0.347269, 1.      ],\n       [0.271305, 0.019942, 0.347269, 1.      ],\n       [0.271305, 0.019942, 0.347269, 1.      ],\n       [0.271305, 0.019942, 0.347269, 1.      ],\n       [0.272594, 0.025563, 0.353093, 1.      ],\n       [0.272594, 0.025563, 0.353093, 1.      ],\n       [0.272594, 0.025563, 0.353093, 1.      ],\n       [0.272594, 0.025563, 0.353093, 1.      ],\n       [0.272594, 0.025563, 0.353093, 1.      ],\n       [0.272594, 0.025563, 0.353093, 1.      ],\n       [0.272594, 0.025563, 0.353093, 1.      ],\n       [0.272594, 0.025563, 0.353093, 1.      ],\n       [0.272594, 0.025563, 0.353093, 1.      ],\n       [0.272594, 0.025563, 0.353093, 1.      ]]) is not a valid value for color",
     "output_type": "error",
     "traceback": [
      "\u001b[1;31m---------------------------------------------------------------------------\u001b[0m",
      "\u001b[1;31mValueError\u001b[0m                                Traceback (most recent call last)",
      "Cell \u001b[1;32mIn[11], line 1\u001b[0m\n\u001b[1;32m----> 1\u001b[0m \u001b[43mplt\u001b[49m\u001b[38;5;241;43m.\u001b[39;49m\u001b[43mplot\u001b[49m\u001b[43m(\u001b[49m\u001b[43mx\u001b[49m\u001b[43m,\u001b[49m\u001b[43m \u001b[49m\u001b[43my\u001b[49m\u001b[43m,\u001b[49m\u001b[43m \u001b[49m\u001b[43mcolor\u001b[49m\u001b[38;5;241;43m=\u001b[39;49m\u001b[43mcolors\u001b[49m\u001b[43m)\u001b[49m\n\u001b[0;32m      2\u001b[0m plt\u001b[38;5;241m.\u001b[39mxticks(rotation\u001b[38;5;241m=\u001b[39m\u001b[38;5;241m90\u001b[39m)\n",
      "File \u001b[1;32mc:\\Users\\kiree\\anaconda3\\envs\\panda\\Lib\\site-packages\\matplotlib\\pyplot.py:3590\u001b[0m, in \u001b[0;36mplot\u001b[1;34m(scalex, scaley, data, *args, **kwargs)\u001b[0m\n\u001b[0;32m   3582\u001b[0m \u001b[38;5;129m@_copy_docstring_and_deprecators\u001b[39m(Axes\u001b[38;5;241m.\u001b[39mplot)\n\u001b[0;32m   3583\u001b[0m \u001b[38;5;28;01mdef\u001b[39;00m \u001b[38;5;21mplot\u001b[39m(\n\u001b[0;32m   3584\u001b[0m     \u001b[38;5;241m*\u001b[39margs: \u001b[38;5;28mfloat\u001b[39m \u001b[38;5;241m|\u001b[39m ArrayLike \u001b[38;5;241m|\u001b[39m \u001b[38;5;28mstr\u001b[39m,\n\u001b[1;32m   (...)\u001b[0m\n\u001b[0;32m   3588\u001b[0m     \u001b[38;5;241m*\u001b[39m\u001b[38;5;241m*\u001b[39mkwargs,\n\u001b[0;32m   3589\u001b[0m ) \u001b[38;5;241m-\u001b[39m\u001b[38;5;241m>\u001b[39m \u001b[38;5;28mlist\u001b[39m[Line2D]:\n\u001b[1;32m-> 3590\u001b[0m     \u001b[38;5;28;01mreturn\u001b[39;00m \u001b[43mgca\u001b[49m\u001b[43m(\u001b[49m\u001b[43m)\u001b[49m\u001b[38;5;241;43m.\u001b[39;49m\u001b[43mplot\u001b[49m\u001b[43m(\u001b[49m\n\u001b[0;32m   3591\u001b[0m \u001b[43m        \u001b[49m\u001b[38;5;241;43m*\u001b[39;49m\u001b[43margs\u001b[49m\u001b[43m,\u001b[49m\n\u001b[0;32m   3592\u001b[0m \u001b[43m        \u001b[49m\u001b[43mscalex\u001b[49m\u001b[38;5;241;43m=\u001b[39;49m\u001b[43mscalex\u001b[49m\u001b[43m,\u001b[49m\n\u001b[0;32m   3593\u001b[0m \u001b[43m        \u001b[49m\u001b[43mscaley\u001b[49m\u001b[38;5;241;43m=\u001b[39;49m\u001b[43mscaley\u001b[49m\u001b[43m,\u001b[49m\n\u001b[0;32m   3594\u001b[0m \u001b[43m        \u001b[49m\u001b[38;5;241;43m*\u001b[39;49m\u001b[38;5;241;43m*\u001b[39;49m\u001b[43m(\u001b[49m\u001b[43m{\u001b[49m\u001b[38;5;124;43m\"\u001b[39;49m\u001b[38;5;124;43mdata\u001b[39;49m\u001b[38;5;124;43m\"\u001b[39;49m\u001b[43m:\u001b[49m\u001b[43m \u001b[49m\u001b[43mdata\u001b[49m\u001b[43m}\u001b[49m\u001b[43m \u001b[49m\u001b[38;5;28;43;01mif\u001b[39;49;00m\u001b[43m \u001b[49m\u001b[43mdata\u001b[49m\u001b[43m \u001b[49m\u001b[38;5;129;43;01mis\u001b[39;49;00m\u001b[43m \u001b[49m\u001b[38;5;129;43;01mnot\u001b[39;49;00m\u001b[43m \u001b[49m\u001b[38;5;28;43;01mNone\u001b[39;49;00m\u001b[43m \u001b[49m\u001b[38;5;28;43;01melse\u001b[39;49;00m\u001b[43m \u001b[49m\u001b[43m{\u001b[49m\u001b[43m}\u001b[49m\u001b[43m)\u001b[49m\u001b[43m,\u001b[49m\n\u001b[0;32m   3595\u001b[0m \u001b[43m        \u001b[49m\u001b[38;5;241;43m*\u001b[39;49m\u001b[38;5;241;43m*\u001b[39;49m\u001b[43mkwargs\u001b[49m\u001b[43m,\u001b[49m\n\u001b[0;32m   3596\u001b[0m \u001b[43m    \u001b[49m\u001b[43m)\u001b[49m\n",
      "File \u001b[1;32mc:\\Users\\kiree\\anaconda3\\envs\\panda\\Lib\\site-packages\\matplotlib\\axes\\_axes.py:1724\u001b[0m, in \u001b[0;36mAxes.plot\u001b[1;34m(self, scalex, scaley, data, *args, **kwargs)\u001b[0m\n\u001b[0;32m   1481\u001b[0m \u001b[38;5;250m\u001b[39m\u001b[38;5;124;03m\"\"\"\u001b[39;00m\n\u001b[0;32m   1482\u001b[0m \u001b[38;5;124;03mPlot y versus x as lines and/or markers.\u001b[39;00m\n\u001b[0;32m   1483\u001b[0m \n\u001b[1;32m   (...)\u001b[0m\n\u001b[0;32m   1721\u001b[0m \u001b[38;5;124;03m(``'green'``) or hex strings (``'#008000'``).\u001b[39;00m\n\u001b[0;32m   1722\u001b[0m \u001b[38;5;124;03m\"\"\"\u001b[39;00m\n\u001b[0;32m   1723\u001b[0m kwargs \u001b[38;5;241m=\u001b[39m cbook\u001b[38;5;241m.\u001b[39mnormalize_kwargs(kwargs, mlines\u001b[38;5;241m.\u001b[39mLine2D)\n\u001b[1;32m-> 1724\u001b[0m lines \u001b[38;5;241m=\u001b[39m [\u001b[38;5;241m*\u001b[39m\u001b[38;5;28mself\u001b[39m\u001b[38;5;241m.\u001b[39m_get_lines(\u001b[38;5;28mself\u001b[39m, \u001b[38;5;241m*\u001b[39margs, data\u001b[38;5;241m=\u001b[39mdata, \u001b[38;5;241m*\u001b[39m\u001b[38;5;241m*\u001b[39mkwargs)]\n\u001b[0;32m   1725\u001b[0m \u001b[38;5;28;01mfor\u001b[39;00m line \u001b[38;5;129;01min\u001b[39;00m lines:\n\u001b[0;32m   1726\u001b[0m     \u001b[38;5;28mself\u001b[39m\u001b[38;5;241m.\u001b[39madd_line(line)\n",
      "File \u001b[1;32mc:\\Users\\kiree\\anaconda3\\envs\\panda\\Lib\\site-packages\\matplotlib\\axes\\_base.py:303\u001b[0m, in \u001b[0;36m_process_plot_var_args.__call__\u001b[1;34m(self, axes, data, *args, **kwargs)\u001b[0m\n\u001b[0;32m    301\u001b[0m     this \u001b[38;5;241m+\u001b[39m\u001b[38;5;241m=\u001b[39m args[\u001b[38;5;241m0\u001b[39m],\n\u001b[0;32m    302\u001b[0m     args \u001b[38;5;241m=\u001b[39m args[\u001b[38;5;241m1\u001b[39m:]\n\u001b[1;32m--> 303\u001b[0m \u001b[38;5;28;01myield from\u001b[39;00m \u001b[38;5;28;43mself\u001b[39;49m\u001b[38;5;241;43m.\u001b[39;49m\u001b[43m_plot_args\u001b[49m\u001b[43m(\u001b[49m\n\u001b[0;32m    304\u001b[0m \u001b[43m    \u001b[49m\u001b[43maxes\u001b[49m\u001b[43m,\u001b[49m\u001b[43m \u001b[49m\u001b[43mthis\u001b[49m\u001b[43m,\u001b[49m\u001b[43m \u001b[49m\u001b[43mkwargs\u001b[49m\u001b[43m,\u001b[49m\u001b[43m \u001b[49m\u001b[43mambiguous_fmt_datakey\u001b[49m\u001b[38;5;241;43m=\u001b[39;49m\u001b[43mambiguous_fmt_datakey\u001b[49m\u001b[43m)\u001b[49m\n",
      "File \u001b[1;32mc:\\Users\\kiree\\anaconda3\\envs\\panda\\Lib\\site-packages\\matplotlib\\axes\\_base.py:539\u001b[0m, in \u001b[0;36m_process_plot_var_args._plot_args\u001b[1;34m(self, axes, tup, kwargs, return_kwargs, ambiguous_fmt_datakey)\u001b[0m\n\u001b[0;32m    537\u001b[0m     \u001b[38;5;28;01mreturn\u001b[39;00m \u001b[38;5;28mlist\u001b[39m(result)\n\u001b[0;32m    538\u001b[0m \u001b[38;5;28;01melse\u001b[39;00m:\n\u001b[1;32m--> 539\u001b[0m     \u001b[38;5;28;01mreturn\u001b[39;00m \u001b[43m[\u001b[49m\u001b[43ml\u001b[49m\u001b[43m[\u001b[49m\u001b[38;5;241;43m0\u001b[39;49m\u001b[43m]\u001b[49m\u001b[43m \u001b[49m\u001b[38;5;28;43;01mfor\u001b[39;49;00m\u001b[43m \u001b[49m\u001b[43ml\u001b[49m\u001b[43m \u001b[49m\u001b[38;5;129;43;01min\u001b[39;49;00m\u001b[43m \u001b[49m\u001b[43mresult\u001b[49m\u001b[43m]\u001b[49m\n",
      "File \u001b[1;32mc:\\Users\\kiree\\anaconda3\\envs\\panda\\Lib\\site-packages\\matplotlib\\axes\\_base.py:532\u001b[0m, in \u001b[0;36m<genexpr>\u001b[1;34m(.0)\u001b[0m\n\u001b[0;32m    529\u001b[0m \u001b[38;5;28;01melse\u001b[39;00m:\n\u001b[0;32m    530\u001b[0m     labels \u001b[38;5;241m=\u001b[39m [label] \u001b[38;5;241m*\u001b[39m n_datasets\n\u001b[1;32m--> 532\u001b[0m result \u001b[38;5;241m=\u001b[39m (\u001b[43mmake_artist\u001b[49m\u001b[43m(\u001b[49m\u001b[43maxes\u001b[49m\u001b[43m,\u001b[49m\u001b[43m \u001b[49m\u001b[43mx\u001b[49m\u001b[43m[\u001b[49m\u001b[43m:\u001b[49m\u001b[43m,\u001b[49m\u001b[43m \u001b[49m\u001b[43mj\u001b[49m\u001b[43m \u001b[49m\u001b[38;5;241;43m%\u001b[39;49m\u001b[43m \u001b[49m\u001b[43mncx\u001b[49m\u001b[43m]\u001b[49m\u001b[43m,\u001b[49m\u001b[43m \u001b[49m\u001b[43my\u001b[49m\u001b[43m[\u001b[49m\u001b[43m:\u001b[49m\u001b[43m,\u001b[49m\u001b[43m \u001b[49m\u001b[43mj\u001b[49m\u001b[43m \u001b[49m\u001b[38;5;241;43m%\u001b[39;49m\u001b[43m \u001b[49m\u001b[43mncy\u001b[49m\u001b[43m]\u001b[49m\u001b[43m,\u001b[49m\u001b[43m \u001b[49m\u001b[43mkw\u001b[49m\u001b[43m,\u001b[49m\n\u001b[0;32m    533\u001b[0m \u001b[43m                      \u001b[49m\u001b[43m{\u001b[49m\u001b[38;5;241;43m*\u001b[39;49m\u001b[38;5;241;43m*\u001b[39;49m\u001b[43mkwargs\u001b[49m\u001b[43m,\u001b[49m\u001b[43m \u001b[49m\u001b[38;5;124;43m'\u001b[39;49m\u001b[38;5;124;43mlabel\u001b[39;49m\u001b[38;5;124;43m'\u001b[39;49m\u001b[43m:\u001b[49m\u001b[43m \u001b[49m\u001b[43mlabel\u001b[49m\u001b[43m}\u001b[49m\u001b[43m)\u001b[49m\n\u001b[0;32m    534\u001b[0m           \u001b[38;5;28;01mfor\u001b[39;00m j, label \u001b[38;5;129;01min\u001b[39;00m \u001b[38;5;28menumerate\u001b[39m(labels))\n\u001b[0;32m    536\u001b[0m \u001b[38;5;28;01mif\u001b[39;00m return_kwargs:\n\u001b[0;32m    537\u001b[0m     \u001b[38;5;28;01mreturn\u001b[39;00m \u001b[38;5;28mlist\u001b[39m(result)\n",
      "File \u001b[1;32mc:\\Users\\kiree\\anaconda3\\envs\\panda\\Lib\\site-packages\\matplotlib\\axes\\_base.py:346\u001b[0m, in \u001b[0;36m_process_plot_var_args._makeline\u001b[1;34m(self, axes, x, y, kw, kwargs)\u001b[0m\n\u001b[0;32m    344\u001b[0m default_dict \u001b[38;5;241m=\u001b[39m \u001b[38;5;28mself\u001b[39m\u001b[38;5;241m.\u001b[39m_getdefaults(\u001b[38;5;28mset\u001b[39m(), kw)\n\u001b[0;32m    345\u001b[0m \u001b[38;5;28mself\u001b[39m\u001b[38;5;241m.\u001b[39m_setdefaults(default_dict, kw)\n\u001b[1;32m--> 346\u001b[0m seg \u001b[38;5;241m=\u001b[39m \u001b[43mmlines\u001b[49m\u001b[38;5;241;43m.\u001b[39;49m\u001b[43mLine2D\u001b[49m\u001b[43m(\u001b[49m\u001b[43mx\u001b[49m\u001b[43m,\u001b[49m\u001b[43m \u001b[49m\u001b[43my\u001b[49m\u001b[43m,\u001b[49m\u001b[43m \u001b[49m\u001b[38;5;241;43m*\u001b[39;49m\u001b[38;5;241;43m*\u001b[39;49m\u001b[43mkw\u001b[49m\u001b[43m)\u001b[49m\n\u001b[0;32m    347\u001b[0m \u001b[38;5;28;01mreturn\u001b[39;00m seg, kw\n",
      "File \u001b[1;32mc:\\Users\\kiree\\anaconda3\\envs\\panda\\Lib\\site-packages\\matplotlib\\lines.py:376\u001b[0m, in \u001b[0;36mLine2D.__init__\u001b[1;34m(self, xdata, ydata, linewidth, linestyle, color, gapcolor, marker, markersize, markeredgewidth, markeredgecolor, markerfacecolor, markerfacecoloralt, fillstyle, antialiased, dash_capstyle, solid_capstyle, dash_joinstyle, solid_joinstyle, pickradius, drawstyle, markevery, **kwargs)\u001b[0m\n\u001b[0;32m    373\u001b[0m \u001b[38;5;28mself\u001b[39m\u001b[38;5;241m.\u001b[39mset_drawstyle(drawstyle)\n\u001b[0;32m    375\u001b[0m \u001b[38;5;28mself\u001b[39m\u001b[38;5;241m.\u001b[39m_color \u001b[38;5;241m=\u001b[39m \u001b[38;5;28;01mNone\u001b[39;00m\n\u001b[1;32m--> 376\u001b[0m \u001b[38;5;28;43mself\u001b[39;49m\u001b[38;5;241;43m.\u001b[39;49m\u001b[43mset_color\u001b[49m\u001b[43m(\u001b[49m\u001b[43mcolor\u001b[49m\u001b[43m)\u001b[49m\n\u001b[0;32m    377\u001b[0m \u001b[38;5;28;01mif\u001b[39;00m marker \u001b[38;5;129;01mis\u001b[39;00m \u001b[38;5;28;01mNone\u001b[39;00m:\n\u001b[0;32m    378\u001b[0m     marker \u001b[38;5;241m=\u001b[39m \u001b[38;5;124m'\u001b[39m\u001b[38;5;124mnone\u001b[39m\u001b[38;5;124m'\u001b[39m  \u001b[38;5;66;03m# Default.\u001b[39;00m\n",
      "File \u001b[1;32mc:\\Users\\kiree\\anaconda3\\envs\\panda\\Lib\\site-packages\\matplotlib\\lines.py:1061\u001b[0m, in \u001b[0;36mLine2D.set_color\u001b[1;34m(self, color)\u001b[0m\n\u001b[0;32m   1053\u001b[0m \u001b[38;5;28;01mdef\u001b[39;00m \u001b[38;5;21mset_color\u001b[39m(\u001b[38;5;28mself\u001b[39m, color):\n\u001b[0;32m   1054\u001b[0m \u001b[38;5;250m    \u001b[39m\u001b[38;5;124;03m\"\"\"\u001b[39;00m\n\u001b[0;32m   1055\u001b[0m \u001b[38;5;124;03m    Set the color of the line.\u001b[39;00m\n\u001b[0;32m   1056\u001b[0m \n\u001b[1;32m   (...)\u001b[0m\n\u001b[0;32m   1059\u001b[0m \u001b[38;5;124;03m    color : color\u001b[39;00m\n\u001b[0;32m   1060\u001b[0m \u001b[38;5;124;03m    \"\"\"\u001b[39;00m\n\u001b[1;32m-> 1061\u001b[0m     \u001b[43mmcolors\u001b[49m\u001b[38;5;241;43m.\u001b[39;49m\u001b[43m_check_color_like\u001b[49m\u001b[43m(\u001b[49m\u001b[43mcolor\u001b[49m\u001b[38;5;241;43m=\u001b[39;49m\u001b[43mcolor\u001b[49m\u001b[43m)\u001b[49m\n\u001b[0;32m   1062\u001b[0m     \u001b[38;5;28mself\u001b[39m\u001b[38;5;241m.\u001b[39m_color \u001b[38;5;241m=\u001b[39m color\n\u001b[0;32m   1063\u001b[0m     \u001b[38;5;28mself\u001b[39m\u001b[38;5;241m.\u001b[39mstale \u001b[38;5;241m=\u001b[39m \u001b[38;5;28;01mTrue\u001b[39;00m\n",
      "File \u001b[1;32mc:\\Users\\kiree\\anaconda3\\envs\\panda\\Lib\\site-packages\\matplotlib\\colors.py:246\u001b[0m, in \u001b[0;36m_check_color_like\u001b[1;34m(**kwargs)\u001b[0m\n\u001b[0;32m    244\u001b[0m \u001b[38;5;28;01mfor\u001b[39;00m k, v \u001b[38;5;129;01min\u001b[39;00m kwargs\u001b[38;5;241m.\u001b[39mitems():\n\u001b[0;32m    245\u001b[0m     \u001b[38;5;28;01mif\u001b[39;00m \u001b[38;5;129;01mnot\u001b[39;00m is_color_like(v):\n\u001b[1;32m--> 246\u001b[0m         \u001b[38;5;28;01mraise\u001b[39;00m \u001b[38;5;167;01mValueError\u001b[39;00m(\u001b[38;5;124mf\u001b[39m\u001b[38;5;124m\"\u001b[39m\u001b[38;5;132;01m{\u001b[39;00mv\u001b[38;5;132;01m!r}\u001b[39;00m\u001b[38;5;124m is not a valid value for \u001b[39m\u001b[38;5;132;01m{\u001b[39;00mk\u001b[38;5;132;01m}\u001b[39;00m\u001b[38;5;124m\"\u001b[39m)\n",
      "\u001b[1;31mValueError\u001b[0m: array([[0.26851 , 0.009605, 0.335427, 1.      ],\n       [0.26851 , 0.009605, 0.335427, 1.      ],\n       [0.26851 , 0.009605, 0.335427, 1.      ],\n       [0.26851 , 0.009605, 0.335427, 1.      ],\n       [0.26851 , 0.009605, 0.335427, 1.      ],\n       [0.26851 , 0.009605, 0.335427, 1.      ],\n       [0.26851 , 0.009605, 0.335427, 1.      ],\n       [0.26851 , 0.009605, 0.335427, 1.      ],\n       [0.26851 , 0.009605, 0.335427, 1.      ],\n       [0.26851 , 0.009605, 0.335427, 1.      ],\n       [0.269944, 0.014625, 0.341379, 1.      ],\n       [0.269944, 0.014625, 0.341379, 1.      ],\n       [0.269944, 0.014625, 0.341379, 1.      ],\n       [0.269944, 0.014625, 0.341379, 1.      ],\n       [0.269944, 0.014625, 0.341379, 1.      ],\n       [0.269944, 0.014625, 0.341379, 1.      ],\n       [0.269944, 0.014625, 0.341379, 1.      ],\n       [0.269944, 0.014625, 0.341379, 1.      ],\n       [0.269944, 0.014625, 0.341379, 1.      ],\n       [0.269944, 0.014625, 0.341379, 1.      ],\n       [0.271305, 0.019942, 0.347269, 1.      ],\n       [0.271305, 0.019942, 0.347269, 1.      ],\n       [0.271305, 0.019942, 0.347269, 1.      ],\n       [0.271305, 0.019942, 0.347269, 1.      ],\n       [0.271305, 0.019942, 0.347269, 1.      ],\n       [0.271305, 0.019942, 0.347269, 1.      ],\n       [0.271305, 0.019942, 0.347269, 1.      ],\n       [0.271305, 0.019942, 0.347269, 1.      ],\n       [0.271305, 0.019942, 0.347269, 1.      ],\n       [0.271305, 0.019942, 0.347269, 1.      ],\n       [0.272594, 0.025563, 0.353093, 1.      ],\n       [0.272594, 0.025563, 0.353093, 1.      ],\n       [0.272594, 0.025563, 0.353093, 1.      ],\n       [0.272594, 0.025563, 0.353093, 1.      ],\n       [0.272594, 0.025563, 0.353093, 1.      ],\n       [0.272594, 0.025563, 0.353093, 1.      ],\n       [0.272594, 0.025563, 0.353093, 1.      ],\n       [0.272594, 0.025563, 0.353093, 1.      ],\n       [0.272594, 0.025563, 0.353093, 1.      ],\n       [0.272594, 0.025563, 0.353093, 1.      ]]) is not a valid value for color"
     ]
    },
    {
     "data": {
      "image/png": "[encoded data removed]",
      "text/plain": [
       "<Figure size 640x480 with 1 Axes>"
      ]
     },
     "metadata": {},
     "output_type": "display_data"
    }
   ],
   "source": [
    "plt.plot(x, y, color=colors)\n",
    "plt.xticks(rotation=90)"
   ]
  },
  {
   "cell_type": "code",
   "execution_count": null,
   "metadata": {},
   "outputs": [],
   "source": []
  }
 ],
 "metadata": {
  "kernelspec": {
   "display_name": "panda",
   "language": "python",
   "name": "python3"
  },
  "language_info": {
   "codemirror_mode": {
    "name": "ipython",
    "version": 3
   },
   "file_extension": ".py",
   "mimetype": "text/x-python",
   "name": "python",
   "nbconvert_exporter": "python",
   "pygments_lexer": "ipython3",
   "version": "3.12.2"
  }
 },
 "nbformat": 4,
 "nbformat_minor": 2
}
